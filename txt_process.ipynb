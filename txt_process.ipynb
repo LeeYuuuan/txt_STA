{
  "nbformat": 4,
  "nbformat_minor": 0,
  "metadata": {
    "colab": {
      "provenance": [],
      "mount_file_id": "1zcU3i0TSMjVgIiBVK_qoUVx6i21yZpcF",
      "authorship_tag": "ABX9TyPKbv4e24TT3JwfzlGOh9I2",
      "include_colab_link": true
    },
    "kernelspec": {
      "name": "python3",
      "display_name": "Python 3"
    },
    "language_info": {
      "name": "python"
    }
  },
  "cells": [
    {
      "cell_type": "markdown",
      "metadata": {
        "id": "view-in-github",
        "colab_type": "text"
      },
      "source": [
        "<a href=\"https://colab.research.google.com/github/LeeYuuuan/txt_STA/blob/main/txt_process.ipynb\" target=\"_parent\"><img src=\"https://colab.research.google.com/assets/colab-badge.svg\" alt=\"Open In Colab\"/></a>"
      ]
    },
    {
      "cell_type": "code",
      "source": [
        "from google.colab import drive"
      ],
      "metadata": {
        "id": "cl71gD79dEIj"
      },
      "execution_count": 8,
      "outputs": []
    },
    {
      "cell_type": "code",
      "source": [
        "import pandas as pd\n",
        "import numpy as np"
      ],
      "metadata": {
        "id": "zwKwNSoZplFl"
      },
      "execution_count": 143,
      "outputs": []
    },
    {
      "cell_type": "code",
      "source": [
        "def get_dict():\n",
        "    with open('/content/drive/MyDrive/Colab Notebooks/Others/TxT ProcessZZ/第一周.txt') as file:\n",
        "        content_raw = file.read()\n",
        "    # print(content)\n",
        "    contents = content_raw.replace(\"\\n\", \"\") # replace every \\n\n",
        "    contents = contents.split(\"???\") # get every part\n",
        "    parts = [] # get list of every parts\n",
        "\n",
        "    for content in contents:\n",
        "        element_part = content.split(\"。\")\n",
        "        element_part.pop()\n",
        "        parts.append(element_part)\n",
        "\n",
        "    part_data = [] # 用于保存7个部分的分块数据 [part1, part2, ...]\n",
        "    for part in parts:\n",
        "        element_part_data = []\n",
        "        for data_element in part:\n",
        "            number = data_element.split(\"；\")[0]\n",
        "            huamu_type = data_element.split(\"；\")[1].split(\" \")\n",
        "            huamu_list = data_element.split(\"；\")[2].split(\" \")\n",
        "            data_element_dict = {\"No\": number, \"画目类型\": huamu_type, \"画目序列\": huamu_list }\n",
        "            element_part_data.append(data_element_dict)\n",
        "        part_data.append(element_part_data)\n",
        "\n",
        "    data_dict_list = [] # 用于保存所有dict 的list: [dict1, dict2, ...]\n",
        "    for p_number, p_data in enumerate(part_data):\n",
        "        for elem in p_data:\n",
        "            elem[\"part\"] = p_number\n",
        "            data_dict_list.append(elem)\n",
        "    \n",
        "    return data_dict_list"
      ],
      "metadata": {
        "id": "gxT_2nKWrdFy"
      },
      "execution_count": 155,
      "outputs": []
    },
    {
      "cell_type": "code",
      "execution_count": 156,
      "metadata": {
        "id": "J_HVl0B59lIn"
      },
      "outputs": [],
      "source": [
        "def get_pandas_df(data_dict_list):\n",
        "    df = pd.DataFrame(data_dict_list)\n",
        "    return df"
      ]
    },
    {
      "cell_type": "code",
      "source": [
        "df = get_pandas_df(get_dict())"
      ],
      "metadata": {
        "id": "vyXPgQdFgZ32"
      },
      "execution_count": 159,
      "outputs": []
    },
    {
      "cell_type": "code",
      "source": [
        "df"
      ],
      "metadata": {
        "colab": {
          "base_uri": "https://localhost:8080/",
          "height": 424
        },
        "id": "0O6JW6lQt0TZ",
        "outputId": "c9d9ba6e-0b32-46b0-859d-5e59333cba4a"
      },
      "execution_count": 167,
      "outputs": [
        {
          "output_type": "execute_result",
          "data": {
            "text/plain": [
              "      No      画目类型          画目序列  part\n",
              "0    001      [诱发]  [提名, 陈述, 提问]     0\n",
              "1    002  [附和, 诱发]    [重复反馈, 陈述]     0\n",
              "2    003      [附和]          [重述]     0\n",
              "3    004      [附和]          [帮助]     0\n",
              "4    005  [附和, 诱发]      [重述, 陈述]     0\n",
              "..   ...       ...           ...   ...\n",
              "286  287      [附和]          [评论]     6\n",
              "287  288  [附和, 诱发]      [反馈, 陈述]     6\n",
              "288  289      [附和]          [帮助]     6\n",
              "289  290  [附和, 诱发]      [重述, 陈述]     6\n",
              "290  291  [附和, 诱发]      [反馈, 陈述]     6\n",
              "\n",
              "[291 rows x 4 columns]"
            ],
            "text/html": [
              "\n",
              "  <div id=\"df-a7c06e32-f46f-4472-9582-aecd25227023\">\n",
              "    <div class=\"colab-df-container\">\n",
              "      <div>\n",
              "<style scoped>\n",
              "    .dataframe tbody tr th:only-of-type {\n",
              "        vertical-align: middle;\n",
              "    }\n",
              "\n",
              "    .dataframe tbody tr th {\n",
              "        vertical-align: top;\n",
              "    }\n",
              "\n",
              "    .dataframe thead th {\n",
              "        text-align: right;\n",
              "    }\n",
              "</style>\n",
              "<table border=\"1\" class=\"dataframe\">\n",
              "  <thead>\n",
              "    <tr style=\"text-align: right;\">\n",
              "      <th></th>\n",
              "      <th>No</th>\n",
              "      <th>画目类型</th>\n",
              "      <th>画目序列</th>\n",
              "      <th>part</th>\n",
              "    </tr>\n",
              "  </thead>\n",
              "  <tbody>\n",
              "    <tr>\n",
              "      <th>0</th>\n",
              "      <td>001</td>\n",
              "      <td>[诱发]</td>\n",
              "      <td>[提名, 陈述, 提问]</td>\n",
              "      <td>0</td>\n",
              "    </tr>\n",
              "    <tr>\n",
              "      <th>1</th>\n",
              "      <td>002</td>\n",
              "      <td>[附和, 诱发]</td>\n",
              "      <td>[重复反馈, 陈述]</td>\n",
              "      <td>0</td>\n",
              "    </tr>\n",
              "    <tr>\n",
              "      <th>2</th>\n",
              "      <td>003</td>\n",
              "      <td>[附和]</td>\n",
              "      <td>[重述]</td>\n",
              "      <td>0</td>\n",
              "    </tr>\n",
              "    <tr>\n",
              "      <th>3</th>\n",
              "      <td>004</td>\n",
              "      <td>[附和]</td>\n",
              "      <td>[帮助]</td>\n",
              "      <td>0</td>\n",
              "    </tr>\n",
              "    <tr>\n",
              "      <th>4</th>\n",
              "      <td>005</td>\n",
              "      <td>[附和, 诱发]</td>\n",
              "      <td>[重述, 陈述]</td>\n",
              "      <td>0</td>\n",
              "    </tr>\n",
              "    <tr>\n",
              "      <th>...</th>\n",
              "      <td>...</td>\n",
              "      <td>...</td>\n",
              "      <td>...</td>\n",
              "      <td>...</td>\n",
              "    </tr>\n",
              "    <tr>\n",
              "      <th>286</th>\n",
              "      <td>287</td>\n",
              "      <td>[附和]</td>\n",
              "      <td>[评论]</td>\n",
              "      <td>6</td>\n",
              "    </tr>\n",
              "    <tr>\n",
              "      <th>287</th>\n",
              "      <td>288</td>\n",
              "      <td>[附和, 诱发]</td>\n",
              "      <td>[反馈, 陈述]</td>\n",
              "      <td>6</td>\n",
              "    </tr>\n",
              "    <tr>\n",
              "      <th>288</th>\n",
              "      <td>289</td>\n",
              "      <td>[附和]</td>\n",
              "      <td>[帮助]</td>\n",
              "      <td>6</td>\n",
              "    </tr>\n",
              "    <tr>\n",
              "      <th>289</th>\n",
              "      <td>290</td>\n",
              "      <td>[附和, 诱发]</td>\n",
              "      <td>[重述, 陈述]</td>\n",
              "      <td>6</td>\n",
              "    </tr>\n",
              "    <tr>\n",
              "      <th>290</th>\n",
              "      <td>291</td>\n",
              "      <td>[附和, 诱发]</td>\n",
              "      <td>[反馈, 陈述]</td>\n",
              "      <td>6</td>\n",
              "    </tr>\n",
              "  </tbody>\n",
              "</table>\n",
              "<p>291 rows × 4 columns</p>\n",
              "</div>\n",
              "      <button class=\"colab-df-convert\" onclick=\"convertToInteractive('df-a7c06e32-f46f-4472-9582-aecd25227023')\"\n",
              "              title=\"Convert this dataframe to an interactive table.\"\n",
              "              style=\"display:none;\">\n",
              "        \n",
              "  <svg xmlns=\"http://www.w3.org/2000/svg\" height=\"24px\"viewBox=\"0 0 24 24\"\n",
              "       width=\"24px\">\n",
              "    <path d=\"M0 0h24v24H0V0z\" fill=\"none\"/>\n",
              "    <path d=\"M18.56 5.44l.94 2.06.94-2.06 2.06-.94-2.06-.94-.94-2.06-.94 2.06-2.06.94zm-11 1L8.5 8.5l.94-2.06 2.06-.94-2.06-.94L8.5 2.5l-.94 2.06-2.06.94zm10 10l.94 2.06.94-2.06 2.06-.94-2.06-.94-.94-2.06-.94 2.06-2.06.94z\"/><path d=\"M17.41 7.96l-1.37-1.37c-.4-.4-.92-.59-1.43-.59-.52 0-1.04.2-1.43.59L10.3 9.45l-7.72 7.72c-.78.78-.78 2.05 0 2.83L4 21.41c.39.39.9.59 1.41.59.51 0 1.02-.2 1.41-.59l7.78-7.78 2.81-2.81c.8-.78.8-2.07 0-2.86zM5.41 20L4 18.59l7.72-7.72 1.47 1.35L5.41 20z\"/>\n",
              "  </svg>\n",
              "      </button>\n",
              "      \n",
              "  <style>\n",
              "    .colab-df-container {\n",
              "      display:flex;\n",
              "      flex-wrap:wrap;\n",
              "      gap: 12px;\n",
              "    }\n",
              "\n",
              "    .colab-df-convert {\n",
              "      background-color: #E8F0FE;\n",
              "      border: none;\n",
              "      border-radius: 50%;\n",
              "      cursor: pointer;\n",
              "      display: none;\n",
              "      fill: #1967D2;\n",
              "      height: 32px;\n",
              "      padding: 0 0 0 0;\n",
              "      width: 32px;\n",
              "    }\n",
              "\n",
              "    .colab-df-convert:hover {\n",
              "      background-color: #E2EBFA;\n",
              "      box-shadow: 0px 1px 2px rgba(60, 64, 67, 0.3), 0px 1px 3px 1px rgba(60, 64, 67, 0.15);\n",
              "      fill: #174EA6;\n",
              "    }\n",
              "\n",
              "    [theme=dark] .colab-df-convert {\n",
              "      background-color: #3B4455;\n",
              "      fill: #D2E3FC;\n",
              "    }\n",
              "\n",
              "    [theme=dark] .colab-df-convert:hover {\n",
              "      background-color: #434B5C;\n",
              "      box-shadow: 0px 1px 3px 1px rgba(0, 0, 0, 0.15);\n",
              "      filter: drop-shadow(0px 1px 2px rgba(0, 0, 0, 0.3));\n",
              "      fill: #FFFFFF;\n",
              "    }\n",
              "  </style>\n",
              "\n",
              "      <script>\n",
              "        const buttonEl =\n",
              "          document.querySelector('#df-a7c06e32-f46f-4472-9582-aecd25227023 button.colab-df-convert');\n",
              "        buttonEl.style.display =\n",
              "          google.colab.kernel.accessAllowed ? 'block' : 'none';\n",
              "\n",
              "        async function convertToInteractive(key) {\n",
              "          const element = document.querySelector('#df-a7c06e32-f46f-4472-9582-aecd25227023');\n",
              "          const dataTable =\n",
              "            await google.colab.kernel.invokeFunction('convertToInteractive',\n",
              "                                                     [key], {});\n",
              "          if (!dataTable) return;\n",
              "\n",
              "          const docLinkHtml = 'Like what you see? Visit the ' +\n",
              "            '<a target=\"_blank\" href=https://colab.research.google.com/notebooks/data_table.ipynb>data table notebook</a>'\n",
              "            + ' to learn more about interactive tables.';\n",
              "          element.innerHTML = '';\n",
              "          dataTable['output_type'] = 'display_data';\n",
              "          await google.colab.output.renderOutput(dataTable, element);\n",
              "          const docLink = document.createElement('div');\n",
              "          docLink.innerHTML = docLinkHtml;\n",
              "          element.appendChild(docLink);\n",
              "        }\n",
              "      </script>\n",
              "    </div>\n",
              "  </div>\n",
              "  "
            ]
          },
          "metadata": {},
          "execution_count": 167
        }
      ]
    },
    {
      "cell_type": "code",
      "source": [
        "df.at[0, \"画目序列\"]"
      ],
      "metadata": {
        "colab": {
          "base_uri": "https://localhost:8080/"
        },
        "id": "n830M5P4-lbr",
        "outputId": "4da3f5c6-9de6-43d5-c1fe-72f7af3e76e3"
      },
      "execution_count": 166,
      "outputs": [
        {
          "output_type": "execute_result",
          "data": {
            "text/plain": [
              "['提名', '陈述', '提问']"
            ]
          },
          "metadata": {},
          "execution_count": 166
        }
      ]
    },
    {
      "cell_type": "code",
      "source": [
        "df.shape[0]"
      ],
      "metadata": {
        "colab": {
          "base_uri": "https://localhost:8080/"
        },
        "id": "L81MG3fFuLMj",
        "outputId": "43614154-b4e2-4e46-cc18-2ef926d13c5e"
      },
      "execution_count": 170,
      "outputs": [
        {
          "output_type": "execute_result",
          "data": {
            "text/plain": [
              "291"
            ]
          },
          "metadata": {},
          "execution_count": 170
        }
      ]
    },
    {
      "cell_type": "code",
      "source": [
        "def jug_if_a_after_b(a, b, data_list):\n",
        "    \"\"\"用于判断data_list中,a是否在b之后\"\"\"\n",
        "    len_data = len(data_list)\n",
        "    for i, elem in enumerate(data_list):\n",
        "        if elem == b:\n",
        "            if jug_if_a_exist(a, data_list[i+1:]):\n",
        "                return True\n",
        "    return False\n",
        "    "
      ],
      "metadata": {
        "id": "Rbq0iiTSweBt"
      },
      "execution_count": 179,
      "outputs": []
    },
    {
      "cell_type": "code",
      "source": [],
      "metadata": {
        "colab": {
          "base_uri": "https://localhost:8080/"
        },
        "id": "fzUo1VwYzqVs",
        "outputId": "e7061fe7-1962-4f76-eb06-0b255edb05f8"
      },
      "execution_count": 182,
      "outputs": [
        {
          "output_type": "execute_result",
          "data": {
            "text/plain": [
              "True"
            ]
          },
          "metadata": {},
          "execution_count": 182
        }
      ]
    },
    {
      "cell_type": "code",
      "source": [
        "def jug_if_a_exist(a, data_list,):\n",
        "    \"\"\"用于判断a是否存在于list中\"\"\"\n",
        "    for elem in data_list:\n",
        "        if elem == a:\n",
        "            return True\n",
        "    return False\n",
        "        \n",
        "\n",
        "    "
      ],
      "metadata": {
        "id": "8QTpgSGyxgjN"
      },
      "execution_count": 180,
      "outputs": []
    },
    {
      "cell_type": "code",
      "source": [
        "ask_count = 0\n",
        "ask_statement = 0\n",
        "for i in range(df.shape[0]):\n",
        "    if jug_if_a_exist(\"提问\", df.at[i, \"画目序列\"]):\n",
        "        print(df.at[i, \"画目序列\"])\n",
        "        ask_count += 1\n",
        "    \n",
        "    if jug_if_a_after_b(\"提问\", \"陈述\", df.at[i, \"画目序列\"]):\n",
        "      \n",
        "        ask_statement += 1\n",
        "print(f\"提问在陈述后的个数:{ask_statement}\\n提问的个数:{ask_count}\\n\")"
      ],
      "metadata": {
        "colab": {
          "base_uri": "https://localhost:8080/"
        },
        "id": "KGCgcgIwhAZI",
        "outputId": "3ceb4bf8-784c-419f-bd2e-67a83441aa29"
      },
      "execution_count": 187,
      "outputs": [
        {
          "output_type": "stream",
          "name": "stdout",
          "text": [
            "['提名', '陈述', '提问']\n",
            "['提问', '帮助']\n",
            "['陈述', '提问']\n",
            "['反馈', '陈述', '提问']\n",
            "['提问']\n",
            "['提问']\n",
            "['反馈', '陈述', '提问']\n",
            "['陈述', '提问']\n",
            "['陈述', '提问', '补充']\n",
            "['陈述', '提问', '补充']\n",
            "['评论', '陈述', '提问']\n",
            "['提问']\n",
            "['提问']\n",
            "['评论', '陈述', '提问']\n",
            "['提问']\n",
            "['陈述', '提问', '补充']\n",
            "['陈述', '提问', '补充']\n",
            "['陈述', '提问']\n",
            "['提问']\n",
            "['陈述', '提问']\n",
            "['陈述', '提问']\n",
            "['陈述', '提问', '补充']\n",
            "['重复反馈', '陈述', '提问']\n",
            "['陈述', '提问']\n",
            "['陈述', '提名', '提问', '补充']\n",
            "['重述', '陈述', '提问']\n",
            "['反馈', '提问', '补充', '提名']\n",
            "['反馈', '评论', '陈述', '提名', '提问']\n",
            "['陈述', '提名', '提问']\n",
            "['重述', '陈述', '提问']\n",
            "['陈述', '提问']\n",
            "['重复反馈', '提问']\n",
            "['评论', '提问', '补充']\n",
            "['提问', '补充']\n",
            "提问在陈述后的个数:23\n",
            "提问的个数:34\n",
            "\n"
          ]
        }
      ]
    },
    {
      "cell_type": "code",
      "source": [
        "ask_statement"
      ],
      "metadata": {
        "colab": {
          "base_uri": "https://localhost:8080/"
        },
        "id": "1inAf0p3g29g",
        "outputId": "dee638ec-7ed2-4549-f04e-68d194382f2c"
      },
      "execution_count": 176,
      "outputs": [
        {
          "output_type": "execute_result",
          "data": {
            "text/plain": [
              "0"
            ]
          },
          "metadata": {},
          "execution_count": 176
        }
      ]
    },
    {
      "cell_type": "code",
      "source": [
        "ask_count"
      ],
      "metadata": {
        "colab": {
          "base_uri": "https://localhost:8080/"
        },
        "id": "__oSilLvoIQR",
        "outputId": "fca66fe5-d6ec-4af7-df21-52c9735287cd"
      },
      "execution_count": 177,
      "outputs": [
        {
          "output_type": "execute_result",
          "data": {
            "text/plain": [
              "34"
            ]
          },
          "metadata": {},
          "execution_count": 177
        }
      ]
    },
    {
      "cell_type": "code",
      "source": [],
      "metadata": {
        "id": "bORqLiJlps7H"
      },
      "execution_count": 149,
      "outputs": []
    },
    {
      "cell_type": "code",
      "source": [
        "df"
      ],
      "metadata": {
        "id": "ApiQDylypxAn"
      },
      "execution_count": null,
      "outputs": []
    },
    {
      "cell_type": "code",
      "source": [],
      "metadata": {
        "id": "Qv8sYuncpx8m"
      },
      "execution_count": null,
      "outputs": []
    }
  ]
}